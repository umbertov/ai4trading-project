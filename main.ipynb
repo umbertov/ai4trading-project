{
 "cells": [
  {
   "cell_type": "markdown",
   "id": "65cccc1e",
   "metadata": {},
   "source": [
    "# LOB Dataset for Projects\n",
    "\n",
    "This jupyter notebook is used to download the FI-2010 [1] dataset for train and test a AI classifier on LOB data.\n",
    "The code is obtained from [2].\n",
    "\n",
    "### Data:\n",
    "The FI-2010 is publicly avilable and interested readers can check out their paper [1]. The dataset can be downloaded from: https://etsin.fairdata.fi/dataset/73eb48d7-4dbc-4a10-a52a-da745b47a649\n",
    "\n",
    "Otherwise, the notebook will download the data automatically or it can be obtained from:\n",
    "\n",
    "https://drive.google.com/drive/folders/1Xen3aRid9ZZhFqJRgEMyETNazk02cNmv?usp=sharing\n",
    "\n",
    "### References:\n",
    "[1] Ntakaris A, Magris M, Kanniainen J, Gabbouj M, Iosifidis A. Benchmark dataset for mid‐price forecasting of limit order book data with machine learning methods. Journal of Forecasting. 2018 Dec;37(8):852-66. https://arxiv.org/abs/1705.03233\n",
    "\n",
    "[2] Zhang Z, Zohren S, Roberts S. DeepLOB: Deep convolutional neural networks for limit order books. IEEE Transactions on Signal Processing. 2019 Mar 25;67(11):3001-12. https://arxiv.org/abs/1808.03668\n",
    "\n",
    "### This notebook runs on Pytorch 1.9.0."
   ]
  },
  {
   "cell_type": "code",
   "execution_count": 1,
   "id": "7299f0f4",
   "metadata": {},
   "outputs": [],
   "source": [
    "%load_ext autoreload\n",
    "%autoreload 2\n",
    "# download the data\n",
    "import os"
   ]
  },
  {
   "cell_type": "code",
   "execution_count": 2,
   "id": "89391acf",
   "metadata": {},
   "outputs": [
    {
     "name": "stdout",
     "output_type": "stream",
     "text": [
      "data already existed.\n"
     ]
    }
   ],
   "source": [
    "if not os.path.isfile(\"data.zip\"):\n",
    "    !wget https://raw.githubusercontent.com/zcakhaa/DeepLOB-Deep-Convolutional-Neural-Networks-for-Limit-Order-Books/master/data/data.zip\n",
    "    !unzip -n data.zip\n",
    "    print(\"data downloaded.\")\n",
    "else:\n",
    "    print(\"data already existed.\")"
   ]
  },
  {
   "cell_type": "code",
   "execution_count": 3,
   "id": "a5796c48",
   "metadata": {},
   "outputs": [
    {
     "name": "stdout",
     "output_type": "stream",
     "text": [
      "total 974180\n",
      "drwxr-xr-x  7 umberto umberto      4096 Jan 31 20:05 .\n",
      "drwxr----- 96 umberto umberto      4096 Jan 25 13:40 ..\n",
      "drwxr-xr-x 68 umberto umberto      4096 Jan 31 20:07 ai4t-DeepLobster\n",
      "-rw-r--r--  1 umberto umberto    620535 Jan 27 14:57 best_val_model_pytorch\n",
      "-rw-r--r--  1 umberto umberto     56476 Jan 31 20:05 dataset_download.ipynb\n",
      "-rw-r--r--  1 umberto umberto      7309 Jan 31 20:05 dataset_download.py\n",
      "-rw-r--r--  1 umberto umberto  56278154 Dec 29 11:46 data.zip\n",
      "drwxr-xr-x  8 umberto umberto      4096 Jan 31 13:00 .git\n",
      "drwxr-xr-x  2 umberto umberto      4096 Jan 27 10:43 .ipynb_checkpoints\n",
      "-rw-r--r--  1 umberto umberto      3098 Jan 31 13:00 lightning_model.py\n",
      "-rw-r--r--  1 umberto umberto      2755 Jan 28 18:24 lob_datasets.py\n",
      "-rw-r--r--  1 umberto umberto      3207 Jan 28 18:47 lob_models_1d.py\n",
      "-rw-r--r--  1 umberto umberto      5808 Jan 31 12:51 lob_models_2d.py\n",
      "-rw-r--r--  1 umberto umberto      1669 Jan 31 11:38 loss.py\n",
      "drwxr-xr-x  2 umberto umberto      4096 Jan 31 13:00 __pycache__\n",
      "-rw-r--r--  1 umberto umberto    107276 Jan 27 15:44 run_train_pytorch.ipynb\n",
      "-rw-r--r--  1 umberto umberto 132259850 Jul 14  2021 Test_Dst_NoAuction_DecPre_CF_7.txt\n",
      "-rw-r--r--  1 umberto umberto 124378346 Jul 14  2021 Test_Dst_NoAuction_DecPre_CF_8.txt\n",
      "-rw-r--r--  1 umberto umberto  76138106 Jul 14  2021 Test_Dst_NoAuction_DecPre_CF_9.txt\n",
      "-rw-r--r--  1 umberto umberto 607324298 Jul 14  2021 Train_Dst_NoAuction_DecPre_CF_7.txt\n",
      "-rw-r--r--  1 umberto umberto    304162 Jan 27 10:52 using_1d_conv.ipynb\n",
      "drwxr-xr-x 90 umberto umberto      4096 Jan 31 20:07 wandb\n"
     ]
    }
   ],
   "source": [
    "!ls -la"
   ]
  },
  {
   "cell_type": "markdown",
   "id": "ff638a46-e953-4c32-8a07-57d9790bdbc6",
   "metadata": {},
   "source": [
    "# Importing libraries\n",
    "\n",
    "## My modules\n",
    "\n",
    "There are several modules outside of this notebook:\n",
    "- `loss.py` Contains `DynamicWeightCrossEntropy`, a loss function based on Cross Entropy, which estimates frequency for each label based on the input batches, and uses it to update an internal, running estimate of the label frequencies. This estimate is used as a weight to `torch.nn.functional.cross_entropy` in order to scale the loss value (and hence gradients w.r.t. model parameters) per-label.\n",
    "- `lob_dataset.py` Contains my implementation for the dataset of this task (`LobDataset`), and the dataset used by the DeepLOB paper (Zhang, Zohren, Roberts), as a check to see if the pre-processing steps match. My implementation optionally supports \"window skipping\", i.e. putting some evenly distributed space between the starting index of each input window; additionally, it is possible to use a `ShuffleDatasetIndices` callback which, at the end of each epoch, randomizes the starting point of each window. This allows for both the benefit of subsampling the dataset and having shorter epochs, without the drawback of unconditionally discarding training examples (which happens when using only window skipping).\n",
    "- `lob_models_1d.py` contains a purely sequential 1D convolutional neural network, to compare with the approaches of (Tsantekidis et al.) and (Zhang et al.).\n",
    "- `lob_models_2d.py` contains both the original DeepLOB model by the authors of the DeepLOB paper (called `TheirDeepLob`), and my reproduction of the model from (Tsantekidis et al.), called `Lob2dCNN`.\n",
    "- `lob_lightning_model.py` contains the `pytorch_lightning.LightningModule` which encapsulates training of each of the models described above. It takes care of optimization, computing metrics and logging them to Weights & Biases."
   ]
  },
  {
   "cell_type": "code",
   "execution_count": 4,
   "id": "fb74f75d",
   "metadata": {
    "lines_to_next_cell": 2
   },
   "outputs": [],
   "source": [
    "# load packages\n",
    "import pandas as pd\n",
    "import pickle\n",
    "import numpy as np\n",
    "import matplotlib.pyplot as plt\n",
    "from datetime import datetime\n",
    "from tqdm import tqdm\n",
    "from sklearn.metrics import accuracy_score, classification_report\n",
    "import torch\n",
    "import torch\n",
    "from torch import nn\n",
    "from torch.utils.data import DataLoader\n",
    "from torch.nn import functional as F\n",
    "import pytorch_lightning as pl\n",
    "from torchmetrics import functional as M\n",
    "\n",
    "from loss import DynamicWeightCrossEntropy\n",
    "from lob_datasets import LobDataset, TheirDataset\n",
    "from lob_models_1d import Lob1dCNN, ResBlock1d\n",
    "from lob_models_2d import TheirDeepLob, Lob2dCNN\n",
    "from lightning_model import LobLightningModule"
   ]
  },
  {
   "cell_type": "markdown",
   "id": "a90694ed",
   "metadata": {},
   "source": [
    "# Data preparation\n",
    "\n",
    "We used no auction dataset that is normalised by decimal precision approach in their work. The first seven days are training data and the last three days are testing data. A validation set (20%) from the training set is used to monitor the overfitting behaviours.\n",
    "\n",
    "The first 40 columns of the FI-2010 dataset are 10 levels ask and bid information for a limit order book and we only use these 40 features in our network. The last 5 columns of the FI-2010 dataset are the labels with different prediction horizons."
   ]
  },
  {
   "cell_type": "code",
   "execution_count": 5,
   "id": "299b429b",
   "metadata": {},
   "outputs": [
    {
     "name": "stdout",
     "output_type": "stream",
     "text": [
      "(149, 203800) (149, 50950) (149, 139587)\n"
     ]
    }
   ],
   "source": [
    "# please change the data_path to your local path\n",
    "# data_path = '/nfs/home/zihaoz/limit_order_book/data'\n",
    "dec_data = np.loadtxt(\n",
    "    \"Train_Dst_NoAuction_DecPre_CF_7.txt\"\n",
    ")  # 80 training - 20 validation\n",
    "dec_train = dec_data[:, : int(np.floor(dec_data.shape[1] * 0.8))]\n",
    "dec_val = dec_data[:, int(np.floor(dec_data.shape[1] * 0.8)) :]\n",
    "\n",
    "dec_test1 = np.loadtxt(\"Test_Dst_NoAuction_DecPre_CF_7.txt\")\n",
    "dec_test2 = np.loadtxt(\"Test_Dst_NoAuction_DecPre_CF_8.txt\")\n",
    "dec_test3 = np.loadtxt(\"Test_Dst_NoAuction_DecPre_CF_9.txt\")\n",
    "dec_test = np.hstack((dec_test1, dec_test2, dec_test3))\n",
    "\n",
    "print(dec_train.shape, dec_val.shape, dec_test.shape)"
   ]
  },
  {
   "cell_type": "code",
   "execution_count": 6,
   "id": "4f61007e",
   "metadata": {},
   "outputs": [],
   "source": [
    "# all the data refer to 7 days, and the first 5 days are in the training set and validation\n",
    "# and the last 2 days are inside the test set\n",
    "x_training_data = dec_train.T[:, :40]\n",
    "x_validation_data = dec_val.T[:, :40]\n",
    "x_test_data = dec_test.T[:, :40]"
   ]
  },
  {
   "cell_type": "code",
   "execution_count": 7,
   "id": "d55c27c9",
   "metadata": {},
   "outputs": [
    {
     "name": "stdout",
     "output_type": "stream",
     "text": [
      "(203800, 40) (50950, 40) (139587, 40)\n"
     ]
    }
   ],
   "source": [
    "print(x_training_data.shape, x_validation_data.shape, x_test_data.shape)"
   ]
  },
  {
   "cell_type": "code",
   "execution_count": 8,
   "id": "18387ca6",
   "metadata": {},
   "outputs": [
    {
     "data": {
      "text/plain": [
       "array([0.2615 , 0.00353, 0.2606 , 0.00326, 0.2618 , 0.002  , 0.2604 ,\n",
       "       0.00682, 0.2619 , 0.00164, 0.2602 , 0.00786, 0.262  , 0.00532,\n",
       "       0.26   , 0.00893, 0.2621 , 0.00151, 0.2599 , 0.00159, 0.2623 ,\n",
       "       0.00837, 0.2595 , 0.001  , 0.2625 , 0.0015 , 0.2593 , 0.00143,\n",
       "       0.2626 , 0.00787, 0.2591 , 0.00134, 0.2629 , 0.00146, 0.2588 ,\n",
       "       0.00123, 0.2633 , 0.00311, 0.2579 , 0.00128])"
      ]
     },
     "execution_count": 8,
     "metadata": {},
     "output_type": "execute_result"
    }
   ],
   "source": [
    "x_training_data[\n",
    "    0\n",
    "]  # 40 --> 10 levels and (ask-price, ask-volume, bid-price, bid-volume)"
   ]
  },
  {
   "cell_type": "code",
   "execution_count": 9,
   "id": "784d894a",
   "metadata": {},
   "outputs": [
    {
     "data": {
      "text/plain": [
       "array([0.2615 , 0.00211, 0.2606 , 0.00326, 0.2619 , 0.00164, 0.2604 ,\n",
       "       0.00682, 0.262  , 0.00138, 0.2602 , 0.00786, 0.2621 , 0.00545,\n",
       "       0.2601 , 0.00393, 0.2625 , 0.0015 , 0.26   , 0.005  , 0.2626 ,\n",
       "       0.00787, 0.2599 , 0.00159, 0.2629 , 0.00146, 0.2595 , 0.001  ,\n",
       "       0.2633 , 0.00311, 0.2593 , 0.00143, 0.2637 , 0.00165, 0.2591 ,\n",
       "       0.00134, 0.2646 , 0.00138, 0.2588 , 0.00123])"
      ]
     },
     "execution_count": 9,
     "metadata": {},
     "output_type": "execute_result"
    }
   ],
   "source": [
    "x_training_data[1]  # second time instant"
   ]
  },
  {
   "cell_type": "code",
   "execution_count": 10,
   "id": "efb045fc-71c6-4ec0-9045-79e34f2e667d",
   "metadata": {
    "lines_to_next_cell": 2
   },
   "outputs": [
    {
     "name": "stdout",
     "output_type": "stream",
     "text": [
      "(203800,)\n"
     ]
    }
   ],
   "source": [
    "TARGET_CLS_IDX = 4\n",
    "y_training_data = dec_train[-5:].T[:, TARGET_CLS_IDX]\n",
    "y_validation_data = dec_val[-5:].T[:, TARGET_CLS_IDX]\n",
    "y_test_data = dec_test[-5:].T[:, TARGET_CLS_IDX]\n",
    "print(y_training_data.shape)"
   ]
  },
  {
   "cell_type": "markdown",
   "id": "90dc7453",
   "metadata": {},
   "source": [
    "#### Dataset info:\n",
    "\n",
    "The 'x' is an 2d-array that contains, for each row a snapshot of the orderbook in the following structure:\n",
    "'best-ask price', 'best-ask volume', 'best-bid price', 'best-bid volume', '2-lev ask price', '2-levl ask volume', '2-lev bid price', '2-lev bid volume', ....\n"
   ]
  },
  {
   "cell_type": "markdown",
   "id": "2dc0dc8d-7fc1-4fe1-baf4-860f38e26996",
   "metadata": {
    "lines_to_next_cell": 2
   },
   "source": [
    "# My dataset instantiation\n",
    "\n",
    "I defined one dictionary of kwargs to pass to each dataset. Explanation of the parameters:\n",
    "- `window_len` is the length of input sequences for the model\n",
    "- `window_skip` controls the \"window skipping\" described previously. The starting index of each window is at a distance `window_skip` from the previous. Having `window_skip=2` means having half of the instances per-epoch. Using the `ShuffleDatasetIndices` callback affects this by adding a random number $r \\in [0,\\text{window_skip}$ used to offset the starting (and ending) point of each window.\n",
    "- `data_fmt` either `'2d'` or `'1d'`. Since I am using models which contain both 1D and 2D CNNs, I need to change the input shape according to the model at hand. This parameter controls the shape of input tensors, either `(batch, 1, height, width)` where `height` is sequence length, and `width` is the 40 orderbook levels in case of 2D CNNs, and `(batch, chan, sequence_len)` in the case of 1D CNNs, where `chan` equals 40."
   ]
  },
  {
   "cell_type": "code",
   "execution_count": 25,
   "id": "cc9bc917",
   "metadata": {},
   "outputs": [
    {
     "data": {
      "text/plain": [
       "(torch.Size([1, 203800, 40]), torch.Size([203800]))"
      ]
     },
     "execution_count": 25,
     "metadata": {},
     "output_type": "execute_result"
    }
   ],
   "source": [
    "### commented because this code is quite expensive (and i don't use their datasets)\n",
    "# their_dataset = TheirDataset(data=dec_train, k=4, num_classes=3, T=100)\n",
    "# train_dataset = LobDataset(data=dec_train, k=4, num_classes=3, T=100)\n",
    "# val_dataset = LobDataset(data=dec_val, k=4, num_classes=3, T=100)\n",
    "# test_dataset = LobDataset(data=dec_test, k=4, num_classes=3, T=100)\n",
    "\n",
    "dataset_kwargs = {\n",
    "    'window_len':100,\n",
    "    'window_skip': 2,\n",
    "    'data_fmt': '2d', # or '2d' if using 2d cnns\n",
    "}\n",
    "\n",
    "train_dataset = dataset = LobDataset(x_training_data, y_training_data, **dataset_kwargs)\n",
    "val_dataset = LobDataset(x_validation_data, y_validation_data, **dataset_kwargs)\n",
    "test_dataset = LobDataset(x_test_data, y_test_data, **dataset_kwargs)\n",
    "# print(dataset[0]['inputs'].shape, dataset[0]['labels'].shape)\n",
    "dataset.inputs.shape, dataset.labels.shape"
   ]
  },
  {
   "cell_type": "code",
   "execution_count": 12,
   "id": "0ca69b70-1df3-4bda-b7d7-d35356db82cd",
   "metadata": {},
   "outputs": [],
   "source": [
    "elem = dataset[0]\n",
    "seq, labels = elem.values()"
   ]
  },
  {
   "cell_type": "code",
   "execution_count": 13,
   "id": "13d09f70",
   "metadata": {},
   "outputs": [
    {
     "data": {
      "text/plain": [
       "(torch.Size([1, 100, 40]), torch.Size([]))"
      ]
     },
     "execution_count": 13,
     "metadata": {},
     "output_type": "execute_result"
    }
   ],
   "source": [
    "# their_elem = their_dataset[0]\n",
    "# their_seq, their_labels = their_elem\n",
    "(\n",
    "    seq.shape, labels.shape, \n",
    "    # their_seq.shape, their_labels.shape\n",
    ")"
   ]
  },
  {
   "cell_type": "code",
   "execution_count": 14,
   "id": "77720416-f343-4a97-b386-dc81b39ee833",
   "metadata": {
    "lines_to_next_cell": 0
   },
   "outputs": [],
   "source": [
    "# assert (seq == their_seq.to(seq.dtype)).all()\n",
    "# assert (labels == their_labels.to(labels.dtype)).all()"
   ]
  },
  {
   "cell_type": "markdown",
   "id": "02fd48ad-43b6-4fab-978e-5014528acfbe",
   "metadata": {},
   "source": [
    "### The `ShuffleDatasetIndices` callback\n",
    "\n",
    "This is a pytorch lightning callback, and it is implemented by simply calling the `reset()` method of the `LobDataset`."
   ]
  },
  {
   "cell_type": "code",
   "execution_count": 15,
   "id": "f56c35ed-10a2-4d56-9f89-535a853f771b",
   "metadata": {},
   "outputs": [],
   "source": [
    "class ShuffleDatasetIndices(pl.Callback):\n",
    "    def on_train_epoch_start(self, trainer, pl_module):\n",
    "        trainer.train_dataloader.dataset.datasets.reset()\n",
    "\n",
    "    def on_validation_epoch_start(self, trainer, pl_module):\n",
    "        trainer.val_dataloaders[0].dataset.reset()"
   ]
  },
  {
   "cell_type": "markdown",
   "id": "7e8b571e-e391-4fa2-83d6-8f8e30b6e643",
   "metadata": {},
   "source": [
    "# Training code\n",
    "\n",
    "Instantiation of the model, dataloaders, loggers and callbacks"
   ]
  },
  {
   "cell_type": "code",
   "execution_count": 16,
   "id": "01b57e18-9ea1-4513-964a-2a5055030e61",
   "metadata": {
    "lines_to_next_cell": 2
   },
   "outputs": [],
   "source": [
    "# try:\n",
    "#     logger.experiment.finish()\n",
    "# except:\n",
    "#     pass\n",
    "logger = pl.loggers.WandbLogger(project=\"ai4t-DeepLobster\")\n",
    "callbacks = [\n",
    "    ShuffleDatasetIndices(),\n",
    "    pl.callbacks.EarlyStopping(monitor='val/loss', patience=15),\n",
    "    \n",
    "]"
   ]
  },
  {
   "cell_type": "markdown",
   "id": "eab999c2-fe26-4937-80c5-d41d05746a7d",
   "metadata": {},
   "source": [
    "#### Note on batch size\n",
    "\n",
    "Authors of (Tsantekidis et al.) use a very small batch size of 16, which also leads to slow training. They also don't report their learning rate, to the best of my knowledge. Hence I determined a LR of `1e-3` to reproduce their performance on the test set.\n",
    "\n",
    "I scale the batch size to $64 = 4*16$ and, following a common rule of thumb, set the learning rate to `4e-3`, scaling it by the same factor as the batch size."
   ]
  },
  {
   "cell_type": "code",
   "execution_count": 17,
   "id": "d647b117",
   "metadata": {},
   "outputs": [
    {
     "name": "stdout",
     "output_type": "stream",
     "text": [
      "{'inputs': torch.Size([64, 1, 100, 40]), 'labels': torch.Size([64])}\n",
      "{'model_out': torch.Size([64, 3]), 'labels': torch.Size([64])}\n"
     ]
    }
   ],
   "source": [
    "BATCH_SIZE = 64\n",
    "\n",
    "#their_cnn = TheirDeepLob(dropout=0.5)\n",
    "\n",
    "my_cnn = Lob2dCNN(dropout=0.1)\n",
    "\n",
    "cnn = my_cnn\n",
    "optimizer = torch.optim.Adam(cnn.parameters(), lr=4e-3)\n",
    "\n",
    "\n",
    "model = LobLightningModule(\n",
    "    model=cnn,\n",
    "    opt=optimizer,\n",
    "    train_dataset=train_dataset,\n",
    "    val_dataset=val_dataset,\n",
    "    test_dataset=test_dataset,\n",
    "    batch_size = BATCH_SIZE,\n",
    "    # loss_criterion=DynamicWeightCrossEntropy(n_classes=3, decay=0.9, minimum_weight=0.01),\n",
    ")\n",
    "\n",
    "train_dataloader = model.train_dataloader()\n",
    "train_example_batch = next(iter(train_dataloader))\n",
    "print({k: v.shape for k, v in train_example_batch.items()})\n",
    "\n",
    "model_out = model(**train_example_batch)\n",
    "print({k: v.shape for k, v in model_out.items()})"
   ]
  },
  {
   "cell_type": "code",
   "execution_count": 18,
   "id": "5e440cf0",
   "metadata": {},
   "outputs": [],
   "source": [
    "from torchinfo import summary"
   ]
  },
  {
   "cell_type": "code",
   "execution_count": 19,
   "id": "1df83f74",
   "metadata": {},
   "outputs": [
    {
     "name": "stdout",
     "output_type": "stream",
     "text": [
      "torch.Size([64, 1, 100, 40])\n"
     ]
    },
    {
     "data": {
      "text/plain": [
       "==========================================================================================\n",
       "Layer (type:depth-idx)                   Output Shape              Param #\n",
       "==========================================================================================\n",
       "LobLightningModule                       --                        --\n",
       "├─Lob2dCNN: 1-1                          --                        --\n",
       "│    └─Dropout: 2-1                      --                        --\n",
       "│    └─LeakyReLU: 2-2                    --                        --\n",
       "│    └─Sequential: 2-3                   [64, 16, 97, 1]           --\n",
       "│    │    └─Conv2d: 3-1                  [64, 16, 97, 1]           2,576\n",
       "│    └─LeakyReLU: 2-4                    [64, 16, 97, 1]           --\n",
       "│    └─Sequential: 2                     --                        --\n",
       "│    │    └─BatchNorm2d: 3-2             [64, 16, 97, 1]           32\n",
       "│    └─Dropout: 2-5                      [64, 16, 97, 1]           --\n",
       "│    └─Sequential: 2-6                   [64, 32, 21]              --\n",
       "│    │    └─Conv1d: 3-3                  [64, 16, 94]              1,040\n",
       "│    │    └─BatchNorm1d: 3-4             [64, 16, 94]              32\n",
       "│    └─LeakyReLU: 2-7                    [64, 16, 94]              --\n",
       "│    └─Sequential: 2                     --                        --\n",
       "│    │    └─MaxPool1d: 3-5               [64, 16, 47]              --\n",
       "│    │    └─Conv1d: 3-6                  [64, 32, 45]              1,568\n",
       "│    │    └─BatchNorm1d: 3-7             [64, 32, 45]              64\n",
       "│    └─LeakyReLU: 2-8                    [64, 32, 45]              --\n",
       "│    └─Sequential: 2                     --                        --\n",
       "│    │    └─Conv1d: 3-8                  [64, 32, 43]              3,104\n",
       "│    │    └─BatchNorm1d: 3-9             [64, 32, 43]              64\n",
       "│    └─LeakyReLU: 2-9                    [64, 32, 43]              --\n",
       "│    └─Sequential: 2                     --                        --\n",
       "│    │    └─MaxPool1d: 3-10              [64, 32, 21]              --\n",
       "│    └─Sequential: 2-10                  [64, 3]                   --\n",
       "│    │    └─Rearrange: 3-11              [64, 672]                 --\n",
       "│    │    └─Linear: 3-12                 [64, 32]                  21,536\n",
       "│    └─LeakyReLU: 2-11                   [64, 32]                  --\n",
       "│    └─Sequential: 2                     --                        --\n",
       "│    │    └─Linear: 3-13                 [64, 3]                   99\n",
       "├─CrossEntropyLoss: 1-2                  --                        --\n",
       "==========================================================================================\n",
       "Total params: 30,115\n",
       "Trainable params: 30,115\n",
       "Non-trainable params: 0\n",
       "Total mult-adds (M): 36.70\n",
       "==========================================================================================\n",
       "Input size (MB): 1.02\n",
       "Forward/backward pass size (MB): 6.03\n",
       "Params size (MB): 0.12\n",
       "Estimated Total Size (MB): 7.18\n",
       "=========================================================================================="
      ]
     },
     "execution_count": 19,
     "metadata": {},
     "output_type": "execute_result"
    }
   ],
   "source": [
    "shape = train_example_batch[\"inputs\"].shape\n",
    "print(shape)\n",
    "summary(model.cuda(), shape, depth=5)"
   ]
  },
  {
   "cell_type": "code",
   "execution_count": 20,
   "id": "5014314a-b6fb-48e1-96d2-cfb72c37169b",
   "metadata": {},
   "outputs": [
    {
     "name": "stderr",
     "output_type": "stream",
     "text": [
      "GPU available: True, used: True\n",
      "TPU available: False, using: 0 TPU cores\n",
      "IPU available: False, using: 0 IPUs\n"
     ]
    }
   ],
   "source": [
    "trainer = pl.Trainer(\n",
    "    gpus=-1, benchmark=True, logger=logger, max_epochs=200, callbacks=callbacks\n",
    ")"
   ]
  },
  {
   "cell_type": "code",
   "execution_count": 21,
   "id": "4fff29bd-a017-41fb-88be-f9742d7af996",
   "metadata": {},
   "outputs": [
    {
     "name": "stderr",
     "output_type": "stream",
     "text": [
      "LOCAL_RANK: 0 - CUDA_VISIBLE_DEVICES: [0]\n",
      "\u001b[34m\u001b[1mwandb\u001b[0m: Currently logged in as: \u001b[33merpi\u001b[0m (use `wandb login --relogin` to force relogin)\n"
     ]
    },
    {
     "data": {
      "text/html": [
       "\n",
       "                    Syncing run <strong><a href=\"https://wandb.ai/erpi/ai4t-DeepLobster/runs/d15efrv4\" target=\"_blank\">robust-brook-89</a></strong> to <a href=\"https://wandb.ai/erpi/ai4t-DeepLobster\" target=\"_blank\">Weights & Biases</a> (<a href=\"https://docs.wandb.com/integrations/jupyter.html\" target=\"_blank\">docs</a>).<br/>\n",
       "\n",
       "                "
      ],
      "text/plain": [
       "<IPython.core.display.HTML object>"
      ]
     },
     "metadata": {},
     "output_type": "display_data"
    },
    {
     "name": "stderr",
     "output_type": "stream",
     "text": [
      "\n",
      "  | Name  | Type             | Params\n",
      "-------------------------------------------\n",
      "0 | model | Lob2dCNN         | 30.1 K\n",
      "1 | loss  | CrossEntropyLoss | 0     \n",
      "-------------------------------------------\n",
      "30.1 K    Trainable params\n",
      "0         Non-trainable params\n",
      "30.1 K    Total params\n",
      "0.120     Total estimated model params size (MB)\n"
     ]
    },
    {
     "data": {
      "application/vnd.jupyter.widget-view+json": {
       "model_id": "",
       "version_major": 2,
       "version_minor": 0
      },
      "text/plain": [
       "Validation sanity check: 0it [00:00, ?it/s]"
      ]
     },
     "metadata": {},
     "output_type": "display_data"
    },
    {
     "name": "stderr",
     "output_type": "stream",
     "text": [
      "/home/umberto/.virtualenvs/ai4t/lib/python3.10/site-packages/deprecate/deprecation.py:115: FutureWarning: The `f1` was deprecated since v0.7 in favor of `torchmetrics.functional.classification.f_beta.f1_score`. It will be removed in v0.8.\n",
      "  stream(template_mgs % msg_args)\n"
     ]
    },
    {
     "data": {
      "application/vnd.jupyter.widget-view+json": {
       "model_id": "aa1f1eaae5444592a89afd03b4349b26",
       "version_major": 2,
       "version_minor": 0
      },
      "text/plain": [
       "Training: 0it [00:00, ?it/s]"
      ]
     },
     "metadata": {},
     "output_type": "display_data"
    },
    {
     "data": {
      "application/vnd.jupyter.widget-view+json": {
       "model_id": "",
       "version_major": 2,
       "version_minor": 0
      },
      "text/plain": [
       "Validating: 0it [00:00, ?it/s]"
      ]
     },
     "metadata": {},
     "output_type": "display_data"
    },
    {
     "data": {
      "application/vnd.jupyter.widget-view+json": {
       "model_id": "",
       "version_major": 2,
       "version_minor": 0
      },
      "text/plain": [
       "Validating: 0it [00:00, ?it/s]"
      ]
     },
     "metadata": {},
     "output_type": "display_data"
    },
    {
     "data": {
      "application/vnd.jupyter.widget-view+json": {
       "model_id": "",
       "version_major": 2,
       "version_minor": 0
      },
      "text/plain": [
       "Validating: 0it [00:00, ?it/s]"
      ]
     },
     "metadata": {},
     "output_type": "display_data"
    },
    {
     "data": {
      "application/vnd.jupyter.widget-view+json": {
       "model_id": "",
       "version_major": 2,
       "version_minor": 0
      },
      "text/plain": [
       "Validating: 0it [00:00, ?it/s]"
      ]
     },
     "metadata": {},
     "output_type": "display_data"
    },
    {
     "data": {
      "application/vnd.jupyter.widget-view+json": {
       "model_id": "",
       "version_major": 2,
       "version_minor": 0
      },
      "text/plain": [
       "Validating: 0it [00:00, ?it/s]"
      ]
     },
     "metadata": {},
     "output_type": "display_data"
    },
    {
     "data": {
      "application/vnd.jupyter.widget-view+json": {
       "model_id": "",
       "version_major": 2,
       "version_minor": 0
      },
      "text/plain": [
       "Validating: 0it [00:00, ?it/s]"
      ]
     },
     "metadata": {},
     "output_type": "display_data"
    },
    {
     "data": {
      "application/vnd.jupyter.widget-view+json": {
       "model_id": "",
       "version_major": 2,
       "version_minor": 0
      },
      "text/plain": [
       "Validating: 0it [00:00, ?it/s]"
      ]
     },
     "metadata": {},
     "output_type": "display_data"
    },
    {
     "data": {
      "application/vnd.jupyter.widget-view+json": {
       "model_id": "",
       "version_major": 2,
       "version_minor": 0
      },
      "text/plain": [
       "Validating: 0it [00:00, ?it/s]"
      ]
     },
     "metadata": {},
     "output_type": "display_data"
    },
    {
     "data": {
      "application/vnd.jupyter.widget-view+json": {
       "model_id": "",
       "version_major": 2,
       "version_minor": 0
      },
      "text/plain": [
       "Validating: 0it [00:00, ?it/s]"
      ]
     },
     "metadata": {},
     "output_type": "display_data"
    },
    {
     "data": {
      "application/vnd.jupyter.widget-view+json": {
       "model_id": "",
       "version_major": 2,
       "version_minor": 0
      },
      "text/plain": [
       "Validating: 0it [00:00, ?it/s]"
      ]
     },
     "metadata": {},
     "output_type": "display_data"
    },
    {
     "data": {
      "application/vnd.jupyter.widget-view+json": {
       "model_id": "",
       "version_major": 2,
       "version_minor": 0
      },
      "text/plain": [
       "Validating: 0it [00:00, ?it/s]"
      ]
     },
     "metadata": {},
     "output_type": "display_data"
    },
    {
     "data": {
      "application/vnd.jupyter.widget-view+json": {
       "model_id": "",
       "version_major": 2,
       "version_minor": 0
      },
      "text/plain": [
       "Validating: 0it [00:00, ?it/s]"
      ]
     },
     "metadata": {},
     "output_type": "display_data"
    },
    {
     "data": {
      "application/vnd.jupyter.widget-view+json": {
       "model_id": "",
       "version_major": 2,
       "version_minor": 0
      },
      "text/plain": [
       "Validating: 0it [00:00, ?it/s]"
      ]
     },
     "metadata": {},
     "output_type": "display_data"
    },
    {
     "data": {
      "application/vnd.jupyter.widget-view+json": {
       "model_id": "",
       "version_major": 2,
       "version_minor": 0
      },
      "text/plain": [
       "Validating: 0it [00:00, ?it/s]"
      ]
     },
     "metadata": {},
     "output_type": "display_data"
    },
    {
     "data": {
      "application/vnd.jupyter.widget-view+json": {
       "model_id": "",
       "version_major": 2,
       "version_minor": 0
      },
      "text/plain": [
       "Validating: 0it [00:00, ?it/s]"
      ]
     },
     "metadata": {},
     "output_type": "display_data"
    },
    {
     "data": {
      "application/vnd.jupyter.widget-view+json": {
       "model_id": "",
       "version_major": 2,
       "version_minor": 0
      },
      "text/plain": [
       "Validating: 0it [00:00, ?it/s]"
      ]
     },
     "metadata": {},
     "output_type": "display_data"
    },
    {
     "data": {
      "application/vnd.jupyter.widget-view+json": {
       "model_id": "",
       "version_major": 2,
       "version_minor": 0
      },
      "text/plain": [
       "Validating: 0it [00:00, ?it/s]"
      ]
     },
     "metadata": {},
     "output_type": "display_data"
    },
    {
     "data": {
      "application/vnd.jupyter.widget-view+json": {
       "model_id": "",
       "version_major": 2,
       "version_minor": 0
      },
      "text/plain": [
       "Validating: 0it [00:00, ?it/s]"
      ]
     },
     "metadata": {},
     "output_type": "display_data"
    },
    {
     "data": {
      "application/vnd.jupyter.widget-view+json": {
       "model_id": "",
       "version_major": 2,
       "version_minor": 0
      },
      "text/plain": [
       "Validating: 0it [00:00, ?it/s]"
      ]
     },
     "metadata": {},
     "output_type": "display_data"
    },
    {
     "data": {
      "application/vnd.jupyter.widget-view+json": {
       "model_id": "",
       "version_major": 2,
       "version_minor": 0
      },
      "text/plain": [
       "Validating: 0it [00:00, ?it/s]"
      ]
     },
     "metadata": {},
     "output_type": "display_data"
    },
    {
     "data": {
      "application/vnd.jupyter.widget-view+json": {
       "model_id": "",
       "version_major": 2,
       "version_minor": 0
      },
      "text/plain": [
       "Validating: 0it [00:00, ?it/s]"
      ]
     },
     "metadata": {},
     "output_type": "display_data"
    },
    {
     "data": {
      "application/vnd.jupyter.widget-view+json": {
       "model_id": "",
       "version_major": 2,
       "version_minor": 0
      },
      "text/plain": [
       "Validating: 0it [00:00, ?it/s]"
      ]
     },
     "metadata": {},
     "output_type": "display_data"
    },
    {
     "data": {
      "application/vnd.jupyter.widget-view+json": {
       "model_id": "",
       "version_major": 2,
       "version_minor": 0
      },
      "text/plain": [
       "Validating: 0it [00:00, ?it/s]"
      ]
     },
     "metadata": {},
     "output_type": "display_data"
    },
    {
     "data": {
      "application/vnd.jupyter.widget-view+json": {
       "model_id": "",
       "version_major": 2,
       "version_minor": 0
      },
      "text/plain": [
       "Validating: 0it [00:00, ?it/s]"
      ]
     },
     "metadata": {},
     "output_type": "display_data"
    },
    {
     "data": {
      "application/vnd.jupyter.widget-view+json": {
       "model_id": "",
       "version_major": 2,
       "version_minor": 0
      },
      "text/plain": [
       "Validating: 0it [00:00, ?it/s]"
      ]
     },
     "metadata": {},
     "output_type": "display_data"
    },
    {
     "data": {
      "application/vnd.jupyter.widget-view+json": {
       "model_id": "",
       "version_major": 2,
       "version_minor": 0
      },
      "text/plain": [
       "Validating: 0it [00:00, ?it/s]"
      ]
     },
     "metadata": {},
     "output_type": "display_data"
    },
    {
     "data": {
      "application/vnd.jupyter.widget-view+json": {
       "model_id": "",
       "version_major": 2,
       "version_minor": 0
      },
      "text/plain": [
       "Validating: 0it [00:00, ?it/s]"
      ]
     },
     "metadata": {},
     "output_type": "display_data"
    },
    {
     "data": {
      "application/vnd.jupyter.widget-view+json": {
       "model_id": "",
       "version_major": 2,
       "version_minor": 0
      },
      "text/plain": [
       "Validating: 0it [00:00, ?it/s]"
      ]
     },
     "metadata": {},
     "output_type": "display_data"
    },
    {
     "data": {
      "application/vnd.jupyter.widget-view+json": {
       "model_id": "",
       "version_major": 2,
       "version_minor": 0
      },
      "text/plain": [
       "Validating: 0it [00:00, ?it/s]"
      ]
     },
     "metadata": {},
     "output_type": "display_data"
    },
    {
     "data": {
      "application/vnd.jupyter.widget-view+json": {
       "model_id": "",
       "version_major": 2,
       "version_minor": 0
      },
      "text/plain": [
       "Validating: 0it [00:00, ?it/s]"
      ]
     },
     "metadata": {},
     "output_type": "display_data"
    },
    {
     "data": {
      "application/vnd.jupyter.widget-view+json": {
       "model_id": "",
       "version_major": 2,
       "version_minor": 0
      },
      "text/plain": [
       "Validating: 0it [00:00, ?it/s]"
      ]
     },
     "metadata": {},
     "output_type": "display_data"
    },
    {
     "data": {
      "application/vnd.jupyter.widget-view+json": {
       "model_id": "",
       "version_major": 2,
       "version_minor": 0
      },
      "text/plain": [
       "Validating: 0it [00:00, ?it/s]"
      ]
     },
     "metadata": {},
     "output_type": "display_data"
    },
    {
     "data": {
      "application/vnd.jupyter.widget-view+json": {
       "model_id": "",
       "version_major": 2,
       "version_minor": 0
      },
      "text/plain": [
       "Validating: 0it [00:00, ?it/s]"
      ]
     },
     "metadata": {},
     "output_type": "display_data"
    },
    {
     "data": {
      "application/vnd.jupyter.widget-view+json": {
       "model_id": "",
       "version_major": 2,
       "version_minor": 0
      },
      "text/plain": [
       "Validating: 0it [00:00, ?it/s]"
      ]
     },
     "metadata": {},
     "output_type": "display_data"
    },
    {
     "data": {
      "application/vnd.jupyter.widget-view+json": {
       "model_id": "",
       "version_major": 2,
       "version_minor": 0
      },
      "text/plain": [
       "Validating: 0it [00:00, ?it/s]"
      ]
     },
     "metadata": {},
     "output_type": "display_data"
    },
    {
     "data": {
      "application/vnd.jupyter.widget-view+json": {
       "model_id": "",
       "version_major": 2,
       "version_minor": 0
      },
      "text/plain": [
       "Validating: 0it [00:00, ?it/s]"
      ]
     },
     "metadata": {},
     "output_type": "display_data"
    },
    {
     "data": {
      "application/vnd.jupyter.widget-view+json": {
       "model_id": "",
       "version_major": 2,
       "version_minor": 0
      },
      "text/plain": [
       "Validating: 0it [00:00, ?it/s]"
      ]
     },
     "metadata": {},
     "output_type": "display_data"
    },
    {
     "data": {
      "application/vnd.jupyter.widget-view+json": {
       "model_id": "",
       "version_major": 2,
       "version_minor": 0
      },
      "text/plain": [
       "Validating: 0it [00:00, ?it/s]"
      ]
     },
     "metadata": {},
     "output_type": "display_data"
    },
    {
     "data": {
      "application/vnd.jupyter.widget-view+json": {
       "model_id": "",
       "version_major": 2,
       "version_minor": 0
      },
      "text/plain": [
       "Validating: 0it [00:00, ?it/s]"
      ]
     },
     "metadata": {},
     "output_type": "display_data"
    },
    {
     "data": {
      "application/vnd.jupyter.widget-view+json": {
       "model_id": "",
       "version_major": 2,
       "version_minor": 0
      },
      "text/plain": [
       "Validating: 0it [00:00, ?it/s]"
      ]
     },
     "metadata": {},
     "output_type": "display_data"
    },
    {
     "data": {
      "application/vnd.jupyter.widget-view+json": {
       "model_id": "",
       "version_major": 2,
       "version_minor": 0
      },
      "text/plain": [
       "Validating: 0it [00:00, ?it/s]"
      ]
     },
     "metadata": {},
     "output_type": "display_data"
    },
    {
     "data": {
      "application/vnd.jupyter.widget-view+json": {
       "model_id": "",
       "version_major": 2,
       "version_minor": 0
      },
      "text/plain": [
       "Validating: 0it [00:00, ?it/s]"
      ]
     },
     "metadata": {},
     "output_type": "display_data"
    },
    {
     "name": "stderr",
     "output_type": "stream",
     "text": [
      "/home/umberto/.virtualenvs/ai4t/lib/python3.10/site-packages/pytorch_lightning/trainer/trainer.py:1398: UserWarning: `.test(ckpt_path=None)` was called without a model. The best model of the previous `fit` call will be used. You can pass `test(ckpt_path='best')` to use and best model checkpoint and avoid this warning or `ckpt_path=trainer.checkpoint_callback.last_model_path` to use the last model.\n",
      "  rank_zero_warn(\n",
      "Restoring states from the checkpoint path at /home/umberto/workspace/git/ai4trading-project/ai4t-DeepLobster/d15efrv4/checkpoints/epoch=41-step=66863.ckpt\n",
      "LOCAL_RANK: 0 - CUDA_VISIBLE_DEVICES: [0]\n",
      "Loaded model weights from checkpoint at /home/umberto/workspace/git/ai4trading-project/ai4t-DeepLobster/d15efrv4/checkpoints/epoch=41-step=66863.ckpt\n"
     ]
    },
    {
     "data": {
      "application/vnd.jupyter.widget-view+json": {
       "model_id": "1041ee18ed964db496aa9b61252cb85f",
       "version_major": 2,
       "version_minor": 0
      },
      "text/plain": [
       "Testing: 0it [00:00, ?it/s]"
      ]
     },
     "metadata": {},
     "output_type": "display_data"
    },
    {
     "name": "stdout",
     "output_type": "stream",
     "text": [
      "--------------------------------------------------------------------------------\n",
      "DATALOADER:0 TEST RESULTS\n",
      "{'test/loss': 0.9826962947845459}\n",
      "--------------------------------------------------------------------------------\n",
      "[{'test/loss': 0.9826962947845459}]\n"
     ]
    },
    {
     "data": {
      "text/html": [
       "<br/>Waiting for W&B process to finish, PID 495008... <strong style=\"color:green\">(success).</strong>"
      ],
      "text/plain": [
       "<IPython.core.display.HTML object>"
      ]
     },
     "metadata": {},
     "output_type": "display_data"
    },
    {
     "data": {
      "application/vnd.jupyter.widget-view+json": {
       "model_id": "",
       "version_major": 2,
       "version_minor": 0
      },
      "text/plain": [
       "VBox(children=(Label(value=' 0.00MB of 0.00MB uploaded (0.00MB deduped)\\r'), FloatProgress(value=1.0, max=1.0)…"
      ]
     },
     "metadata": {},
     "output_type": "display_data"
    },
    {
     "data": {
      "text/html": [
       "<style>\n",
       "    table.wandb td:nth-child(1) { padding: 0 10px; text-align: right }\n",
       "    .wandb-row { display: flex; flex-direction: row; flex-wrap: wrap; width: 100% }\n",
       "    .wandb-col { display: flex; flex-direction: column; flex-basis: 100%; flex: 1; padding: 10px; }\n",
       "    </style>\n",
       "<div class=\"wandb-row\"><div class=\"wandb-col\">\n",
       "<h3>Run history:</h3><br/><table class=\"wandb\"><tr><td>epoch</td><td>▁▁▁▂▂▂▂▂▂▃▃▃▃▃▄▄▄▄▄▄▅▅▅▅▅▅▆▆▆▆▆▇▇▇▇▇▇███</td></tr><tr><td>test/accuracy</td><td>▁</td></tr><tr><td>test/f1_macro</td><td>▁</td></tr><tr><td>test/f1_micro</td><td>▁</td></tr><tr><td>test/loss</td><td>▁</td></tr><tr><td>train/accuracy</td><td>▁▁▂▃▄▅▅▆▆▆▆▆▇▇▇▇▇▇▇▇▇▇▇█████████████████</td></tr><tr><td>train/f1_macro</td><td>▁▂▃▃▄▅▅▆▆▆▆▇▇▇▇▇▇▇▇▇▇▇▇█████████████████</td></tr><tr><td>train/f1_micro</td><td>▁▁▂▂▃▄▅▅▆▆▆▆▆▆▇▇▇▇▇▇▇▇▇▇▇▇██████████████</td></tr><tr><td>train/loss</td><td>██▇▇▇▆▆▅▆▇▄▄▆▃▅▅▄▂▅▅▃▃▄▅▅▇▅▃▃▃▅▃▂▃▁▆▃▅▄▃</td></tr><tr><td>trainer/global_step</td><td>▁▁▁▁▂▂▂▂▂▃▃▃▃▃▄▄▄▄▄▄▅▅▅▅▅▅▆▆▆▆▆▇▇▇▇▇████</td></tr><tr><td>val/accuracy</td><td>▁▁▁▁▁▄▅▆▆▄▇▅▆▇▅▇▇▆▆▇▇▆█▇▇▅▅▇█▆▅▆▇▇▇▆██▇▆</td></tr><tr><td>val/f1_macro</td><td>▁▁▁▁▃▃▆▇▇▅▇▅▆▇▅▇▇▆▇▇▇▆█▇▇▆▅▇█▆▅▆▇▇▇▆██▇▆</td></tr><tr><td>val/f1_micro</td><td>▂▁▁▁▁▁▅▆▆▄▇▅▅▆▃▇▆▅▅▆▇▅▇▇▆▅▃▇▇▅▃▅▆▇▆▅██▆▅</td></tr><tr><td>val/loss</td><td>▄▄▄▄▄▃▂▂▃▂▃▃▆▂▆▂▂▃▃▂▄▂▁▂▂▁█▂▂▄▅▄▂▃▃▅▂▁▃▅</td></tr></table><br/></div><div class=\"wandb-col\">\n",
       "<h3>Run summary:</h3><br/><table class=\"wandb\"><tr><td>epoch</td><td>42</td></tr><tr><td>test/accuracy</td><td>0.59154</td></tr><tr><td>test/f1_macro</td><td>0.58783</td></tr><tr><td>test/f1_micro</td><td>0.59205</td></tr><tr><td>test/loss</td><td>0.9827</td></tr><tr><td>train/accuracy</td><td>0.67335</td></tr><tr><td>train/f1_macro</td><td>0.68442</td></tr><tr><td>train/f1_micro</td><td>0.70031</td></tr><tr><td>train/loss</td><td>0.53739</td></tr><tr><td>trainer/global_step</td><td>66864</td></tr><tr><td>val/accuracy</td><td>0.51274</td></tr><tr><td>val/f1_macro</td><td>0.4618</td></tr><tr><td>val/f1_micro</td><td>0.47904</td></tr><tr><td>val/loss</td><td>1.12695</td></tr></table>\n",
       "</div></div>\n",
       "Synced 5 W&B file(s), 0 media file(s), 0 artifact file(s) and 0 other file(s)\n",
       "<br/>Synced <strong style=\"color:#cdcd00\">robust-brook-89</strong>: <a href=\"https://wandb.ai/erpi/ai4t-DeepLobster/runs/d15efrv4\" target=\"_blank\">https://wandb.ai/erpi/ai4t-DeepLobster/runs/d15efrv4</a><br/>\n",
       "Find logs at: <code>./wandb/run-20220131_203821-d15efrv4/logs</code><br/>\n"
      ],
      "text/plain": [
       "<IPython.core.display.HTML object>"
      ]
     },
     "metadata": {},
     "output_type": "display_data"
    }
   ],
   "source": [
    "try:\n",
    "    trainer.fit(model)\n",
    "except KeyboardInterrupt:\n",
    "    print('interrupting training....')\n",
    "finally:\n",
    "    test_result = trainer.test()\n",
    "    print(test_result)\n",
    "    logger.experiment.finish()"
   ]
  },
  {
   "cell_type": "code",
   "execution_count": 22,
   "id": "d1deb1aa-24c8-47a1-9dc7-739054be1876",
   "metadata": {},
   "outputs": [],
   "source": [
    "if False:\n",
    "    logger.experiment.finish()"
   ]
  },
  {
   "cell_type": "code",
   "execution_count": 23,
   "id": "3ff6b01a-ad73-4ba0-9ea9-0290b2a5da05",
   "metadata": {},
   "outputs": [],
   "source": [
    "model.loss.weight"
   ]
  }
 ],
 "metadata": {
  "jupytext": {
   "encoding": "# -*- coding: utf-8 -*-",
   "formats": "ipynb,py:light"
  },
  "kernelspec": {
   "display_name": "ai4t",
   "language": "python",
   "name": "ai4t"
  },
  "language_info": {
   "codemirror_mode": {
    "name": "ipython",
    "version": 3
   },
   "file_extension": ".py",
   "mimetype": "text/x-python",
   "name": "python",
   "nbconvert_exporter": "python",
   "pygments_lexer": "ipython3",
   "version": "3.10.2"
  }
 },
 "nbformat": 4,
 "nbformat_minor": 5
}
